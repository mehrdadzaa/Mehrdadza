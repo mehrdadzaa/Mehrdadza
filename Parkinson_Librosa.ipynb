{
  "nbformat": 4,
  "nbformat_minor": 0,
  "metadata": {
    "colab": {
      "provenance": [],
      "authorship_tag": "ABX9TyObMyko2y0mP96jgNjdtppY",
      "include_colab_link": true
    },
    "kernelspec": {
      "name": "python3",
      "display_name": "Python 3"
    },
    "language_info": {
      "name": "python"
    }
  },
  "cells": [
    {
      "cell_type": "markdown",
      "metadata": {
        "id": "view-in-github",
        "colab_type": "text"
      },
      "source": [
        "<a href=\"https://colab.research.google.com/github/mehrdadzaa/Mehrdadza/blob/main/Parkinson_Librosa.ipynb\" target=\"_parent\"><img src=\"https://colab.research.google.com/assets/colab-badge.svg\" alt=\"Open In Colab\"/></a>"
      ]
    },
    {
      "cell_type": "code",
      "execution_count": null,
      "metadata": {
        "colab": {
          "base_uri": "https://localhost:8080/"
        },
        "id": "MI1rvPLFWHHy",
        "outputId": "743b6857-b411-445c-8620-0e96a152f5a0"
      },
      "outputs": [
        {
          "output_type": "stream",
          "name": "stdout",
          "text": [
            "Features extracted and saved to /content/voice_features.csv\n"
          ]
        }
      ],
      "source": [
        "import os\n",
        "import librosa\n",
        "import numpy as np\n",
        "import pandas as pd\n",
        "\n",
        "def calculate_jitter(f0_values):\n",
        "    if len(f0_values) > 1:\n",
        "        diffs = np.diff(f0_values)\n",
        "        jitter = np.mean(np.abs(diffs)) / np.mean(f0_values)\n",
        "    else:\n",
        "        jitter = 0\n",
        "    return jitter\n",
        "\n",
        "def calculate_shimmer(db_values):\n",
        "    if len(db_values) > 1:\n",
        "        diffs = np.diff(db_values)\n",
        "        shimmer = np.mean(np.abs(diffs)) / np.mean(db_values)\n",
        "    else:\n",
        "        shimmer = 0\n",
        "    return shimmer\n",
        "\n",
        "def calculate_voicing_rate(pitches):\n",
        "    voiced_frames = np.sum(pitches > 0)\n",
        "    total_frames = pitches.size\n",
        "    voicing_rate = voiced_frames / total_frames if total_frames > 0 else 0\n",
        "    return voicing_rate\n",
        "\n",
        "def calculate_spectral_centroid(y, sr):\n",
        "    return np.mean(librosa.feature.spectral_centroid(y=y, sr=sr))\n",
        "\n",
        "def calculate_lz2(y):\n",
        "    def lempel_ziv_complexity(signal):\n",
        "        n = len(signal)\n",
        "        i, j, k = 0, 1, 0\n",
        "        substrings = set()\n",
        "        while j < n:\n",
        "            if signal[j] != signal[j - 1]:\n",
        "                substrings.add(tuple(signal[i:j]))\n",
        "                i = j\n",
        "            j += 1\n",
        "        substrings.add(tuple(signal[i:]))\n",
        "        return len(substrings) / len(signal)\n",
        "\n",
        "    return lempel_ziv_complexity(list(y))\n",
        "\n",
        "\n",
        "def extract_features(file_path):\n",
        "    y, sr = librosa.load(file_path)\n",
        "    pitches, magnitudes = librosa.piptrack(y=y, sr=sr)\n",
        "    pitch_values = pitches[pitches > 0]\n",
        "    amplitude_values = magnitudes[magnitudes > 0]\n",
        "    db_values = librosa.amplitude_to_db(amplitude_values, ref=np.max)\n",
        "    mfccs = librosa.feature.mfcc(y=y, sr=sr, n_mfcc=13)\n",
        "    mfccs_mean = np.mean(mfccs, axis=1)\n",
        "\n",
        "    features = {\n",
        "        \"Mean F0\": np.mean(pitch_values),\n",
        "        \"STD F0\": np.std(pitch_values),\n",
        "        \"Max F0\": np.max(pitch_values),\n",
        "        \"Min F0\": np.min(pitch_values),\n",
        "        \"Voicing Rate\": calculate_voicing_rate(pitch_values),\n",
        "        \"Spectral Centroid\": calculate_spectral_centroid(y, sr),\n",
        "        \"Jitter\": calculate_jitter(pitch_values),\n",
        "        \"Shimmer\": calculate_shimmer(db_values),\n",
        "        \"LZ-2\": calculate_lz2(y),\n",
        "    }\n",
        "\n",
        "    for i, mfcc_mean in enumerate(mfccs_mean):\n",
        "        features[f\"MFCC{i}\"] = mfcc_mean\n",
        "\n",
        "    return features\n",
        "\n",
        "# Directory containing audio files\n",
        "directory = '/content/Allrec5'\n",
        "\n",
        "# Prepare DataFrame to store features\n",
        "df_features = pd.DataFrame()\n",
        "\n",
        "# Iterate over each file in the directory\n",
        "for filename in os.listdir(directory):\n",
        "    if filename.endswith(\".wav\"):\n",
        "        file_path = os.path.join(directory, filename)\n",
        "        features = extract_features(file_path)\n",
        "        features['Filename'] = filename\n",
        "        df_temp = pd.DataFrame([features])\n",
        "        df_features = pd.concat([df_features, df_temp], ignore_index=True)\n",
        "\n",
        "# Save the features to a CSV file\n",
        "csv_file = '/content/voice_features.csv'\n",
        "df_features.to_csv(csv_file, index=False)\n",
        "print(f\"Features extracted and saved to {csv_file}\")"
      ]
    }
  ]
}